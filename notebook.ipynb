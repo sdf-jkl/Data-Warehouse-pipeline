{
  "cells": [
    {
      "cell_type": "markdown",
      "metadata": {
        "id": "W9y4Oxxe39yG"
      },
      "source": [
        "# Intro stuff"
      ]
    },
    {
      "cell_type": "code",
      "execution_count": null,
      "metadata": {
        "colab": {
          "base_uri": "https://localhost:8080/"
        },
        "id": "r6pO-a3QSyAW",
        "outputId": "5e192d88-606b-4f64-ee16-eab9b092d878"
      },
      "outputs": [],
      "source": [
        "%pip install boto3"
      ]
    },
    {
      "cell_type": "code",
      "execution_count": null,
      "metadata": {
        "colab": {
          "base_uri": "https://localhost:8080/"
        },
        "id": "NhUj8Na8Sn-7",
        "outputId": "acd2f994-b009-4437-a565-9a631882a18f"
      },
      "outputs": [],
      "source": [
        "import boto3\n",
        "import json\n",
        "import requests\n",
        "\n",
        "with open('keys.json') as f:\n",
        "    keys = json.load(f)\n",
        "\n",
        "dataset_link = 'https://data.cityofnewyork.us/api/views/h9gi-nx95/rows.csv?accessType=DOWNLOAD&api_foundry=true'\n",
        "\n",
        "# URL of the CSV file\n",
        "url = dataset_link\n",
        "\n",
        "# S3 bucket and object key where you want to store the file\n",
        "bucket_name = 'my-tf-test-bucket-meow-meow-meow'\n",
        "object_key = 'nyc.csv'\n",
        "\n",
        "# Download the file from the URL and upload it to S3\n",
        "s3 = boto3.client('s3', aws_access_key_id = keys['access_key'], aws_secret_access_key = keys['secret_key'])\n",
        "response = s3.put_object(Bucket=bucket_name, Key=object_key, Body=requests.get(url, stream=True).content)\n",
        "\n",
        "if response['ResponseMetadata']['HTTPStatusCode'] == 200:\n",
        "    print(f\"File '{object_key}' uploaded successfully to '{bucket_name}' bucket.\")\n",
        "else:\n",
        "    print(f\"Failed to upload file '{object_key}' to '{bucket_name}' bucket.\")\n"
      ]
    },
    {
      "cell_type": "code",
      "execution_count": null,
      "metadata": {
        "id": "uSRG1BSjSxVD"
      },
      "outputs": [],
      "source": [
        "url = s3.generate_presigned_url(\n",
        "    ClientMethod='get_object',\n",
        "    Params={\n",
        "        'Bucket': bucket_name,\n",
        "        'Key': object_key\n",
        "    }\n",
        ")"
      ]
    },
    {
      "cell_type": "markdown",
      "metadata": {
        "id": "T9xis5zE5-le"
      },
      "source": [
        "# Transforming part"
      ]
    },
    {
      "cell_type": "code",
      "execution_count": null,
      "metadata": {
        "id": "0CT3mTfrUREM"
      },
      "outputs": [],
      "source": [
        "import pandas as pd"
      ]
    },
    {
      "cell_type": "code",
      "execution_count": null,
      "metadata": {
        "colab": {
          "base_uri": "https://localhost:8080/"
        },
        "id": "hZ5KBmbyUW2P",
        "outputId": "973ab100-7f7f-4cd4-80f8-fc5839b90da2"
      },
      "outputs": [],
      "source": [
        "df = pd.read_csv(url)"
      ]
    },
    {
      "cell_type": "code",
      "execution_count": null,
      "metadata": {
        "colab": {
          "base_uri": "https://localhost:8080/"
        },
        "id": "o3c7agpZiZhR",
        "outputId": "0f115ba2-eef1-4fce-a4c5-17456aaef755"
      },
      "outputs": [],
      "source": [
        "df.info()"
      ]
    },
    {
      "cell_type": "code",
      "execution_count": null,
      "metadata": {
        "colab": {
          "base_uri": "https://localhost:8080/"
        },
        "id": "3t4zsxDVukRC",
        "outputId": "786cacf4-6215-4742-96dc-9cfaa13f7df1"
      },
      "outputs": [],
      "source": [
        "df.memory_usage()"
      ]
    },
    {
      "cell_type": "code",
      "execution_count": null,
      "metadata": {
        "colab": {
          "base_uri": "https://localhost:8080/",
          "height": 411
        },
        "id": "nE43aK7t-bpj",
        "outputId": "2a2220f1-8eb6-40d8-e4e7-dd9c699da368"
      },
      "outputs": [],
      "source": [
        "df.head()"
      ]
    },
    {
      "cell_type": "code",
      "execution_count": null,
      "metadata": {
        "id": "2Lx6z_F4tM8e"
      },
      "outputs": [],
      "source": [
        "# Minimizing size of numeric columns"
      ]
    },
    {
      "cell_type": "code",
      "execution_count": null,
      "metadata": {
        "id": "Gr-c_hZa7XAk"
      },
      "outputs": [],
      "source": [
        "df['CRASH DATETIME'] = df['CRASH DATE'] + ' ' + df['CRASH TIME']"
      ]
    },
    {
      "cell_type": "code",
      "execution_count": null,
      "metadata": {
        "id": "Qgc8RXUa7FdX"
      },
      "outputs": [],
      "source": [
        "df['CRASH DATETIME'] = pd.to_datetime(df['CRASH DATETIME'])"
      ]
    },
    {
      "cell_type": "code",
      "execution_count": null,
      "metadata": {
        "id": "feQVQPiqAWSb"
      },
      "outputs": [],
      "source": [
        "df = df.drop(['CRASH DATE', 'CRASH TIME', 'LOCATION'], axis=1) # location is too useless"
      ]
    },
    {
      "cell_type": "code",
      "execution_count": null,
      "metadata": {
        "id": "W-rA6hZVqYuB"
      },
      "outputs": [],
      "source": [
        "new_order = ['CRASH DATETIME', 'BOROUGH', 'ZIP CODE', 'LATITUDE', 'LONGITUDE', 'ON STREET NAME',\n",
        "       'CROSS STREET NAME', 'OFF STREET NAME', 'NUMBER OF PERSONS INJURED',\n",
        "       'NUMBER OF PERSONS KILLED', 'NUMBER OF PEDESTRIANS INJURED',\n",
        "       'NUMBER OF PEDESTRIANS KILLED', 'NUMBER OF CYCLIST INJURED',\n",
        "       'NUMBER OF CYCLIST KILLED', 'NUMBER OF MOTORIST INJURED',\n",
        "       'NUMBER OF MOTORIST KILLED', 'CONTRIBUTING FACTOR VEHICLE 1',\n",
        "       'CONTRIBUTING FACTOR VEHICLE 2', 'CONTRIBUTING FACTOR VEHICLE 3',\n",
        "       'CONTRIBUTING FACTOR VEHICLE 4', 'CONTRIBUTING FACTOR VEHICLE 5',\n",
        "       'COLLISION_ID', 'VEHICLE TYPE CODE 1', 'VEHICLE TYPE CODE 2',\n",
        "       'VEHICLE TYPE CODE 3', 'VEHICLE TYPE CODE 4', 'VEHICLE TYPE CODE 5']\n",
        "df = df[new_order]"
      ]
    },
    {
      "cell_type": "code",
      "execution_count": null,
      "metadata": {
        "id": "eek3PnQ1vaqV"
      },
      "outputs": [],
      "source": [
        "import numpy as np"
      ]
    },
    {
      "cell_type": "code",
      "execution_count": null,
      "metadata": {
        "id": "iG1Rt8wst5xm"
      },
      "outputs": [],
      "source": [
        "df['ZIP CODE'] = df['ZIP CODE'].replace('     ', np.nan)"
      ]
    },
    {
      "cell_type": "code",
      "execution_count": null,
      "metadata": {
        "id": "APOtIpDkvj94"
      },
      "outputs": [],
      "source": [
        "df['ZIP CODE'] = df['ZIP CODE'].astype('float32')"
      ]
    },
    {
      "cell_type": "code",
      "execution_count": null,
      "metadata": {
        "id": "zh57P0nzwThi"
      },
      "outputs": [],
      "source": [
        "df['ZIP CODE'] = df['ZIP CODE'].astype('Int32')"
      ]
    },
    {
      "cell_type": "code",
      "execution_count": null,
      "metadata": {
        "id": "bjMDkrQqjNxQ"
      },
      "outputs": [],
      "source": [
        "df['NUMBER OF PERSONS INJURED'] = df['NUMBER OF PERSONS INJURED'].astype('Int64')"
      ]
    },
    {
      "cell_type": "code",
      "execution_count": null,
      "metadata": {
        "colab": {
          "base_uri": "https://localhost:8080/"
        },
        "id": "7IZBYINklLhF",
        "outputId": "cd8c208d-8ebf-4cb6-93e8-a34907ed859c"
      },
      "outputs": [],
      "source": [
        "print(df['NUMBER OF PERSONS INJURED'].min(),\n",
        "  df['NUMBER OF PERSONS INJURED'].max()\n",
        ")"
      ]
    },
    {
      "cell_type": "code",
      "execution_count": null,
      "metadata": {
        "id": "jEbFQHBDg2Kr"
      },
      "outputs": [],
      "source": [
        "df['NUMBER OF PERSONS INJURED'] = df['NUMBER OF PERSONS INJURED'].astype('Int8')"
      ]
    },
    {
      "cell_type": "code",
      "execution_count": null,
      "metadata": {
        "id": "UR3iBA4ll-bu"
      },
      "outputs": [],
      "source": [
        "df['NUMBER OF PERSONS KILLED'] = df['NUMBER OF PERSONS KILLED'].astype('Int64')"
      ]
    },
    {
      "cell_type": "code",
      "execution_count": null,
      "metadata": {
        "colab": {
          "base_uri": "https://localhost:8080/"
        },
        "id": "34EIzZ3JmL46",
        "outputId": "0663e015-f5a5-4069-92ca-3e62f0d1bb64"
      },
      "outputs": [],
      "source": [
        "print(df['NUMBER OF PERSONS KILLED'].min(),\n",
        "  df['NUMBER OF PERSONS KILLED'].max()\n",
        ")"
      ]
    },
    {
      "cell_type": "code",
      "execution_count": null,
      "metadata": {
        "id": "1wcDBGpomRGO"
      },
      "outputs": [],
      "source": [
        "df['NUMBER OF PERSONS KILLED'] = df['NUMBER OF PERSONS KILLED'].astype('Int8')"
      ]
    },
    {
      "cell_type": "code",
      "execution_count": null,
      "metadata": {
        "colab": {
          "base_uri": "https://localhost:8080/"
        },
        "id": "C16b0Zrxma_5",
        "outputId": "f8646ce5-0c09-47c5-854f-c3842bc827dc"
      },
      "outputs": [],
      "source": [
        "print(df['NUMBER OF PEDESTRIANS INJURED'].min(),\n",
        "  df['NUMBER OF PEDESTRIANS INJURED'].max()\n",
        ")"
      ]
    },
    {
      "cell_type": "code",
      "execution_count": null,
      "metadata": {
        "id": "4kAw9H2KmYBj"
      },
      "outputs": [],
      "source": [
        "df['NUMBER OF PEDESTRIANS INJURED'] = df['NUMBER OF PEDESTRIANS INJURED'].astype('int8')"
      ]
    },
    {
      "cell_type": "code",
      "execution_count": null,
      "metadata": {
        "colab": {
          "base_uri": "https://localhost:8080/"
        },
        "id": "1vOCQfi9mouu",
        "outputId": "2c10ca9e-e888-4b4b-ff56-47d3257703c5"
      },
      "outputs": [],
      "source": [
        "print(df['NUMBER OF PEDESTRIANS KILLED'].min(),\n",
        "  df['NUMBER OF PEDESTRIANS KILLED'].max()\n",
        ")"
      ]
    },
    {
      "cell_type": "code",
      "execution_count": null,
      "metadata": {
        "id": "vq8c-TFdmt3n"
      },
      "outputs": [],
      "source": [
        "df['NUMBER OF PEDESTRIANS KILLED'] = df['NUMBER OF PEDESTRIANS KILLED'].astype('int8')"
      ]
    },
    {
      "cell_type": "code",
      "execution_count": null,
      "metadata": {
        "colab": {
          "base_uri": "https://localhost:8080/"
        },
        "id": "Zx2Qglzxm3L_",
        "outputId": "8ad06109-2c8e-4714-f4d6-bb1c757e750a"
      },
      "outputs": [],
      "source": [
        "print(df['NUMBER OF CYCLIST INJURED'].min(),\n",
        "  df['NUMBER OF CYCLIST INJURED'].max()\n",
        ")"
      ]
    },
    {
      "cell_type": "code",
      "execution_count": null,
      "metadata": {
        "id": "jQyKH2IUm_QY"
      },
      "outputs": [],
      "source": [
        "df['NUMBER OF CYCLIST INJURED'] = df['NUMBER OF CYCLIST INJURED'].astype('int8')"
      ]
    },
    {
      "cell_type": "code",
      "execution_count": null,
      "metadata": {
        "colab": {
          "base_uri": "https://localhost:8080/"
        },
        "id": "9BxwP_hznJhh",
        "outputId": "f39d6f46-9a10-4d90-983e-6210ef52f190"
      },
      "outputs": [],
      "source": [
        "print(df['NUMBER OF CYCLIST KILLED'].min(),\n",
        "  df['NUMBER OF CYCLIST KILLED'].max()\n",
        ")"
      ]
    },
    {
      "cell_type": "code",
      "execution_count": null,
      "metadata": {
        "id": "yulut3c7nOML"
      },
      "outputs": [],
      "source": [
        "df['NUMBER OF CYCLIST KILLED'] = df['NUMBER OF CYCLIST KILLED'].astype('int8')"
      ]
    },
    {
      "cell_type": "code",
      "execution_count": null,
      "metadata": {
        "colab": {
          "base_uri": "https://localhost:8080/"
        },
        "id": "3Br_ugYDnVzW",
        "outputId": "12d6a326-8516-4d1f-9cc8-3bfd71c462ab"
      },
      "outputs": [],
      "source": [
        "print(df['NUMBER OF MOTORIST INJURED'].min(),\n",
        "  df['NUMBER OF MOTORIST INJURED'].max()\n",
        ")"
      ]
    },
    {
      "cell_type": "code",
      "execution_count": null,
      "metadata": {
        "id": "U10vCc2iq_Iw"
      },
      "outputs": [],
      "source": [
        "df['NUMBER OF MOTORIST INJURED'] = df['NUMBER OF MOTORIST INJURED'].astype('int8')"
      ]
    },
    {
      "cell_type": "code",
      "execution_count": null,
      "metadata": {
        "colab": {
          "base_uri": "https://localhost:8080/"
        },
        "id": "ep8nOtbhrGTV",
        "outputId": "ad5b977c-09e7-43fa-defc-40a704b7255e"
      },
      "outputs": [],
      "source": [
        "print(df['NUMBER OF MOTORIST KILLED'].min(),\n",
        "      df['NUMBER OF MOTORIST KILLED'].max()\n",
        ")"
      ]
    },
    {
      "cell_type": "code",
      "execution_count": null,
      "metadata": {
        "id": "aurg2rwCrN-f"
      },
      "outputs": [],
      "source": [
        "df['NUMBER OF MOTORIST KILLED'] = df['NUMBER OF MOTORIST KILLED'].astype('int8')"
      ]
    },
    {
      "cell_type": "code",
      "execution_count": null,
      "metadata": {
        "id": "mns7x4LgtKVj"
      },
      "outputs": [],
      "source": [
        "df['COLLISION_ID'] = df['COLLISION_ID'].astype('int32')"
      ]
    },
    {
      "cell_type": "code",
      "execution_count": null,
      "metadata": {
        "colab": {
          "base_uri": "https://localhost:8080/"
        },
        "id": "esYDDzNBnS99",
        "outputId": "9dee26aa-1720-4d82-bd2d-4198160577c2"
      },
      "outputs": [],
      "source": [
        "df.info()"
      ]
    },
    {
      "cell_type": "markdown",
      "metadata": {
        "id": "DDOfYEwD6UkQ"
      },
      "source": [
        "# Creating the dimensions\n",
        "![model.png](data:image/png;base64,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)"
      ]
    },
    {
      "cell_type": "markdown",
      "metadata": {
        "id": "n75LKCFiEHh1"
      },
      "source": [
        "## Vehicle dimension"
      ]
    },
    {
      "cell_type": "code",
      "execution_count": null,
      "metadata": {
        "id": "tACd0HzFpJ9k"
      },
      "outputs": [],
      "source": [
        "vehicle_cols = ['VEHICLE TYPE CODE 1', 'VEHICLE TYPE CODE 2', 'VEHICLE TYPE CODE 3', 'VEHICLE TYPE CODE 4', 'VEHICLE TYPE CODE 5']\n",
        "all_values = pd.concat([df[col] for col in vehicle_cols])\n",
        "unique_values_list = all_values.dropna().unique().tolist()"
      ]
    },
    {
      "cell_type": "code",
      "execution_count": null,
      "metadata": {
        "colab": {
          "base_uri": "https://localhost:8080/"
        },
        "id": "EGmIkpkF1ahi",
        "outputId": "2cbfad7e-4615-4268-b580-13ac91559057"
      },
      "outputs": [],
      "source": [
        "len(unique_values_list)"
      ]
    },
    {
      "cell_type": "code",
      "execution_count": null,
      "metadata": {
        "colab": {
          "base_uri": "https://localhost:8080/"
        },
        "id": "MuxGXolq5QzF",
        "outputId": "c1838f52-a369-44c0-87ab-443f09cee35b"
      },
      "outputs": [],
      "source": [
        "len(set([w.lower() for w in unique_values_list]))"
      ]
    },
    {
      "cell_type": "code",
      "execution_count": null,
      "metadata": {
        "id": "ya0cjiHsXERm"
      },
      "outputs": [],
      "source": [
        "# It looks like there are same values that are different because of uppercase use, I will lowercase every str column to get\n",
        "# cleaner data"
      ]
    },
    {
      "cell_type": "code",
      "execution_count": null,
      "metadata": {
        "id": "i6xscNs0XWHh"
      },
      "outputs": [],
      "source": [
        "str_columns = df.select_dtypes(include = 'object').columns.to_list()"
      ]
    },
    {
      "cell_type": "code",
      "execution_count": null,
      "metadata": {
        "id": "x0XpSIgLYJ-w"
      },
      "outputs": [],
      "source": [
        "for col in str_columns:\n",
        "  df[col] = df[col].str.lower()"
      ]
    },
    {
      "cell_type": "code",
      "execution_count": null,
      "metadata": {
        "colab": {
          "base_uri": "https://localhost:8080/"
        },
        "id": "oC9ANMcJYktM",
        "outputId": "55bff082-43fb-4b62-98a0-6ccf054fdada"
      },
      "outputs": [],
      "source": [
        "# Count the vehicle unique values again\n",
        "vehicle_cols = ['VEHICLE TYPE CODE 1', 'VEHICLE TYPE CODE 2',\n",
        "                'VEHICLE TYPE CODE 3', 'VEHICLE TYPE CODE 4',\n",
        "                'VEHICLE TYPE CODE 5'\n",
        "]\n",
        "all_vehicle_values = pd.concat([df[col] for col in vehicle_cols])\n",
        "unique_vehicle_values = all_vehicle_values.dropna().unique().tolist()\n",
        "len(unique_vehicle_values)"
      ]
    },
    {
      "cell_type": "code",
      "execution_count": null,
      "metadata": {
        "colab": {
          "base_uri": "https://localhost:8080/",
          "height": 423
        },
        "id": "jjv_k_tV7aEb",
        "outputId": "f0985ebd-310d-46c8-fa4c-f88d797b8a32"
      },
      "outputs": [],
      "source": [
        "dim_vehicle = pd.DataFrame({\n",
        "    'VEHICLE_ID': range(1, len(unique_vehicle_values) + 1),\n",
        "    'VEHICLE_TYPE': unique_vehicle_values\n",
        "})\n",
        "\n",
        "dim_vehicle"
      ]
    },
    {
      "cell_type": "markdown",
      "metadata": {
        "id": "71OlXwchs-R2"
      },
      "source": [
        "## Factor Dimension"
      ]
    },
    {
      "cell_type": "code",
      "execution_count": null,
      "metadata": {
        "id": "JQKBCqCM69Ed"
      },
      "outputs": [],
      "source": [
        "factor_cols = ['CONTRIBUTING FACTOR VEHICLE 1', 'CONTRIBUTING FACTOR VEHICLE 2',\n",
        "                'CONTRIBUTING FACTOR VEHICLE 3', 'CONTRIBUTING FACTOR VEHICLE 4',\n",
        "                'CONTRIBUTING FACTOR VEHICLE 5'\n",
        "]\n",
        "all_factor_values = pd.concat([df[col] for col in factor_cols])\n",
        "unique_factor_values = all_factor_values.dropna().unique().tolist()"
      ]
    },
    {
      "cell_type": "code",
      "execution_count": null,
      "metadata": {
        "colab": {
          "base_uri": "https://localhost:8080/"
        },
        "id": "-ranmSxDlPMb",
        "outputId": "40f5a806-e74f-4b4d-9bc5-fc1c704360f9"
      },
      "outputs": [],
      "source": [
        "unique_factor_values[:5]"
      ]
    },
    {
      "cell_type": "code",
      "execution_count": null,
      "metadata": {
        "colab": {
          "base_uri": "https://localhost:8080/"
        },
        "id": "1empyB5K2IMW",
        "outputId": "afe9dc80-4aa3-4871-ab29-26f10edd9513"
      },
      "outputs": [],
      "source": [
        "len(unique_factor_values)"
      ]
    },
    {
      "cell_type": "code",
      "execution_count": null,
      "metadata": {
        "colab": {
          "base_uri": "https://localhost:8080/",
          "height": 206
        },
        "id": "h7ohi_Bq2IIA",
        "outputId": "c4c9dad8-e807-471b-bf94-972994dacc8d"
      },
      "outputs": [],
      "source": [
        "dim_factor = pd.DataFrame({\n",
        "    'FACTOR_ID': range(1, len(unique_factor_values) + 1),\n",
        "    'CONTRIBUTING_FACTOR': unique_factor_values\n",
        "})\n",
        "\n",
        "dim_factor.head()"
      ]
    },
    {
      "cell_type": "markdown",
      "metadata": {
        "id": "WXH744iltDSh"
      },
      "source": [
        "## Data Dimension\n"
      ]
    },
    {
      "cell_type": "code",
      "execution_count": null,
      "metadata": {
        "id": "BssAU99hmFLA"
      },
      "outputs": [],
      "source": [
        "import calendar\n",
        "\n",
        "def week_of_month(dt):\n",
        "    year = dt.year\n",
        "    month = dt.month\n",
        "    day = dt.day\n",
        "\n",
        "    cal = calendar.monthcalendar(year, month)\n",
        "    week_number = (day - 1) // 7 + 1\n",
        "    return week_number\n",
        "\n",
        "\n",
        "start_date = df['CRASH DATETIME'].min()\n",
        "end_date = df['CRASH DATETIME'].max()\n",
        "\n",
        "dim_date = pd.DataFrame({'date': pd.date_range(start_date, end_date, freq='H')})\n",
        "# Extract attributes\n",
        "dim_date['YEAR'] = dim_date['date'].dt.year\n",
        "dim_date['QUARTER'] = dim_date['date'].dt.quarter\n",
        "dim_date['MONTH'] = dim_date['date'].dt.month\n",
        "dim_date['MONTH_NAME'] = dim_date['date'].dt.strftime('%B')\n",
        "dim_date['DAY'] = dim_date['date'].dt.day\n",
        "dim_date['DAY_NAME'] = dim_date['date'].dt.strftime('%A')\n",
        "dim_date['HOUR'] = dim_date['date'].dt.hour\n",
        "dim_date['DATE_ISO_FORMAT'] = dim_date['date'].apply(lambda x: x.isoformat())\n",
        "dim_date['DATE_ID'] = dim_date['date'].dt.strftime('%Y%m%d%H')\n",
        "dim_date['WEEK_OF_THE_MONTH'] = dim_date['date'].apply(week_of_month)\n",
        "dim_date['WEEK_OF_THE_YEAR'] = dim_date['date'].dt.strftime('%U')"
      ]
    },
    {
      "cell_type": "code",
      "execution_count": null,
      "metadata": {
        "colab": {
          "base_uri": "https://localhost:8080/",
          "height": 423
        },
        "id": "uK4cJvWK5m1R",
        "outputId": "5cc3492d-0e01-40d9-b339-a5db214ac35d"
      },
      "outputs": [],
      "source": [
        "new_order = ['DATE_ID', 'DATE_ISO_FORMAT','YEAR','QUARTER','MONTH','DAY','HOUR','MONTH_NAME','DAY_NAME','WEEK_OF_THE_YEAR','WEEK_OF_THE_MONTH']\n",
        "dim_date = dim_date[new_order]\n",
        "dim_date"
      ]
    },
    {
      "cell_type": "markdown",
      "metadata": {
        "id": "rSIQbWMItGwJ"
      },
      "source": [
        "## Location dimension\n"
      ]
    },
    {
      "cell_type": "code",
      "execution_count": null,
      "metadata": {
        "id": "bnNG8mMPnei4"
      },
      "outputs": [],
      "source": [
        "dim_location = df[['BOROUGH', 'ZIP CODE', 'LATITUDE', 'LONGITUDE', 'ON STREET NAME',\n",
        "    'CROSS STREET NAME', 'OFF STREET NAME']].drop_duplicates()"
      ]
    },
    {
      "cell_type": "code",
      "execution_count": null,
      "metadata": {
        "id": "v3Q7hORto8YC"
      },
      "outputs": [],
      "source": [
        "dim_location['LOCATION_ID'] =  range(1, len(dim_location) + 1)"
      ]
    },
    {
      "cell_type": "code",
      "execution_count": null,
      "metadata": {
        "id": "uKfUtjWQBAZf"
      },
      "outputs": [],
      "source": [
        "dim_location = dim_location[['LOCATION_ID', 'BOROUGH', 'ZIP CODE', 'LATITUDE', 'LONGITUDE', 'ON STREET NAME',\n",
        "    'CROSS STREET NAME', 'OFF STREET NAME']]"
      ]
    },
    {
      "cell_type": "code",
      "execution_count": null,
      "metadata": {
        "id": "PZR7gYGhJaRu"
      },
      "outputs": [],
      "source": [
        "dim_location = dim_location.rename(columns={\n",
        "    'ZIP CODE': 'ZIPCODE',\n",
        "    'ON STREET NAME': 'ON_STREET_NAME',\n",
        "    'CROSS STREET NAME': 'CROSS_STREET_NAME',\n",
        "    'OFF STREET NAME': 'OFF_STREET_NAME'\n",
        "    })"
      ]
    },
    {
      "cell_type": "code",
      "execution_count": null,
      "metadata": {
        "colab": {
          "base_uri": "https://localhost:8080/",
          "height": 423
        },
        "id": "HvPN6EIvBuV0",
        "outputId": "d8f74a42-4fa1-4d90-ba3c-3f938f50f954"
      },
      "outputs": [],
      "source": [
        "dim_location"
      ]
    },
    {
      "cell_type": "markdown",
      "metadata": {
        "id": "qgNWoYFutO2k"
      },
      "source": [
        "# Fact Table"
      ]
    },
    {
      "cell_type": "code",
      "execution_count": null,
      "metadata": {
        "colab": {
          "base_uri": "https://localhost:8080/"
        },
        "id": "HE-F1Qfx8DXN",
        "outputId": "5767cd86-c7b1-4b0c-fee6-90285d7ae26f"
      },
      "outputs": [],
      "source": [
        "df.columns"
      ]
    },
    {
      "cell_type": "code",
      "execution_count": null,
      "metadata": {
        "id": "uMInmzD17fY2"
      },
      "outputs": [],
      "source": [
        "df['DATE_ID'] = df['CRASH DATETIME'].dt.strftime('%Y%m%d%H')"
      ]
    },
    {
      "cell_type": "code",
      "execution_count": null,
      "metadata": {
        "id": "GgTz6la1qvdA"
      },
      "outputs": [],
      "source": [
        "vehicle_map = dim_vehicle.set_index('VEHICLE_TYPE')['VEHICLE_ID'].to_dict()"
      ]
    },
    {
      "cell_type": "code",
      "execution_count": null,
      "metadata": {
        "id": "VoPDQCRJpcxw"
      },
      "outputs": [],
      "source": [
        "for col in vehicle_cols:\n",
        "  df[col] = df[col].map(vehicle_map).astype('Int16')"
      ]
    },
    {
      "cell_type": "code",
      "execution_count": null,
      "metadata": {
        "id": "7RxIo8vpzpML"
      },
      "outputs": [],
      "source": [
        "factor_map = dim_factor.set_index('CONTRIBUTING_FACTOR')['FACTOR_ID'].to_dict()"
      ]
    },
    {
      "cell_type": "code",
      "execution_count": null,
      "metadata": {
        "id": "ugQpIgUyzlcQ"
      },
      "outputs": [],
      "source": [
        "for col in factor_cols:\n",
        "  df[col] = df[col].map(factor_map).astype('Int8')"
      ]
    },
    {
      "cell_type": "code",
      "execution_count": null,
      "metadata": {
        "colab": {
          "base_uri": "https://localhost:8080/",
          "height": 260
        },
        "id": "20PqYN2u8fqI",
        "outputId": "a42a6b93-9cab-4863-b27d-08e330913d99"
      },
      "outputs": [],
      "source": [
        "df.iloc[:, 16:].head()\n"
      ]
    },
    {
      "cell_type": "code",
      "execution_count": null,
      "metadata": {
        "id": "jV1do-MHrcc_"
      },
      "outputs": [],
      "source": [
        "fact_table = df.copy()"
      ]
    },
    {
      "cell_type": "code",
      "execution_count": null,
      "metadata": {
        "id": "gU25KTQsrp-5"
      },
      "outputs": [],
      "source": [
        "fact_table = fact_table.rename(columns={\n",
        "    'ZIP CODE': 'ZIPCODE',\n",
        "    'ON STREET NAME': 'ON_STREET_NAME',\n",
        "    'CROSS STREET NAME': 'CROSS_STREET_NAME',\n",
        "    'OFF STREET NAME': 'OFF_STREET_NAME'\n",
        "    })"
      ]
    },
    {
      "cell_type": "code",
      "execution_count": null,
      "metadata": {
        "id": "pJBD4zwUtSpD"
      },
      "outputs": [],
      "source": [
        "fact_table = fact_table.merge(dim_location, on=['BOROUGH', 'ZIPCODE', 'LATITUDE', 'LONGITUDE',\n",
        "                                      'ON_STREET_NAME', 'CROSS_STREET_NAME', 'OFF_STREET_NAME'],\n",
        "                                  how='left')"
      ]
    },
    {
      "cell_type": "code",
      "execution_count": null,
      "metadata": {
        "id": "-Xno-td2uq8B"
      },
      "outputs": [],
      "source": [
        "fact_table['FACT_ID'] =  range(1, len(fact_table) + 1)"
      ]
    },
    {
      "cell_type": "code",
      "execution_count": null,
      "metadata": {
        "id": "pjcpd_jKDIFX"
      },
      "outputs": [],
      "source": [
        "fact_table = fact_table[['FACT_ID', 'DATE_ID','LOCATION_ID', 'NUMBER OF PERSONS INJURED', 'NUMBER OF PERSONS KILLED', 'NUMBER OF PEDESTRIANS INJURED',\n",
        "                      'NUMBER OF PEDESTRIANS KILLED', 'NUMBER OF CYCLIST INJURED', 'NUMBER OF CYCLIST KILLED',\n",
        "                      'NUMBER OF MOTORIST INJURED', 'NUMBER OF MOTORIST KILLED', 'CONTRIBUTING FACTOR VEHICLE 1',\n",
        "                      'CONTRIBUTING FACTOR VEHICLE 2', 'CONTRIBUTING FACTOR VEHICLE 3', 'CONTRIBUTING FACTOR VEHICLE 4',\n",
        "                      'CONTRIBUTING FACTOR VEHICLE 5', 'VEHICLE TYPE CODE 1', 'VEHICLE TYPE CODE 2',\n",
        "                      'VEHICLE TYPE CODE 3', 'VEHICLE TYPE CODE 4', 'VEHICLE TYPE CODE 5']]"
      ]
    },
    {
      "cell_type": "code",
      "execution_count": null,
      "metadata": {
        "id": "DZkcvZ8kDI5a"
      },
      "outputs": [],
      "source": [
        "fact_table = fact_table.rename(columns={\n",
        "    'NUMBER OF PERSONS INJURED':'NUMBER_PERSONS_INJURED', 'NUMBER OF PERSONS KILLED':'NUMBER_PERSONS_KILLED',\n",
        "    'NUMBER OF PEDESTRIANS INJURED':'NUMBER_PEDESTRIANS_INJURED', 'NUMBER OF PEDESTRIANS KILLED':'NUMBER_PEDESTRIANS_KILLED',\n",
        "    'NUMBER OF CYCLIST INJURED':'NUMBER_CYCLISTS_INJURED', 'NUMBER OF CYCLIST KILLED':'NUMBER_CYCLISTS_KILLED',\n",
        "    'NUMBER OF MOTORIST INJURED':'NUMBER_MOTORISTS_INJURED', 'NUMBER OF MOTORIST KILLED':'NUMBER_MOTORISTS_KILLED',\n",
        "    'CONTRIBUTING FACTOR VEHICLE 1':'FACTOR1_ID', 'CONTRIBUTING FACTOR VEHICLE 2':'FACTOR2_ID', 'CONTRIBUTING FACTOR VEHICLE 3':'FACTOR3_ID',\n",
        "    'CONTRIBUTING FACTOR VEHICLE 4':'FACTOR4_ID', 'CONTRIBUTING FACTOR VEHICLE 5':'FACTOR5_ID',\n",
        "    'VEHICLE TYPE CODE 1':'VEHICLE1_ID', 'VEHICLE TYPE CODE 2':'VEHICLE2_ID', 'VEHICLE TYPE CODE 3':'VEHICLE3_ID',\n",
        "    'VEHICLE TYPE CODE 4':'VEHICLE4_ID', 'VEHICLE TYPE CODE 5': 'VEHICLE5_ID'\n",
        "})"
      ]
    },
    {
      "cell_type": "code",
      "execution_count": null,
      "metadata": {
        "colab": {
          "base_uri": "https://localhost:8080/",
          "height": 255
        },
        "id": "WaDRfpmTeUS5",
        "outputId": "191819d5-fb6f-4179-9f0d-00fb91cd7fd5"
      },
      "outputs": [],
      "source": [
        "fact_table.head()"
      ]
    },
    {
      "cell_type": "markdown",
      "metadata": {
        "id": "_YFpkHIj1-qX"
      },
      "source": [
        "# Loading the data into snowflake"
      ]
    },
    {
      "cell_type": "code",
      "execution_count": null,
      "metadata": {
        "colab": {
          "base_uri": "https://localhost:8080/"
        },
        "id": "3Op_SGay2xxf",
        "outputId": "c39632af-86d0-41a8-ff74-222c57d81a0b"
      },
      "outputs": [],
      "source": [
        "%pip install sqlalchemy psycopg2-binary snowflake-sqlalchemy snowflake\n"
      ]
    },
    {
      "cell_type": "code",
      "execution_count": null,
      "metadata": {
        "colab": {
          "base_uri": "https://localhost:8080/"
        },
        "id": "rXBtcLjFJc3M",
        "outputId": "bd02cb8a-3de5-43ba-b650-98447a09fc25"
      },
      "outputs": [],
      "source": [
        "from sqlalchemy import create_engine\n",
        "from snowflake.connector.pandas_tools import pd_writer\n",
        "\n",
        "\n",
        "with open('snowflake.json') as f:\n",
        "    snowflake_con = json.load(f)\n",
        "    \n",
        "# Create connection to Snowflake using your account and user\n",
        "account_identifier = snowflake_con['account_identifier']\n",
        "user = snowflake_con['user']\n",
        "password = snowflake_con['password']\n",
        "warehouse = snowflake_con['warehouse']\n",
        "database = snowflake_con['database']\n",
        "schema = snowflake_con['schema']\n",
        "\n",
        "# Enhanced connection string including warehouse, database, and schema\n",
        "conn_string = f\"snowflake://{user}:{password}@{account_identifier}/{database}/{schema}?warehouse={warehouse}\"\n",
        "\n",
        "engine = create_engine(conn_string)\n",
        "connection = engine.connect()\n",
        "\n",
        "sql = \"SELECT * FROM FACTS_COLLISIONS LIMIT 100\"\n",
        "\n",
        "try:\n",
        "    connection.execute(sql)\n",
        "finally:\n",
        "    connection.close()\n",
        "    engine.dispose()\n"
      ]
    },
    {
      "cell_type": "code",
      "execution_count": null,
      "metadata": {
        "colab": {
          "base_uri": "https://localhost:8080/"
        },
        "id": "cJPnghSw_jwE",
        "outputId": "2e3956f3-3791-47cb-b7b9-4aa34008763c"
      },
      "outputs": [],
      "source": [
        "dim_vehicle.to_sql('DIM_VEHICLE', con=engine, index=False, if_exists='append', method=pd_writer)\n",
        "\n",
        "# Close the engine\n",
        "engine.dispose()"
      ]
    },
    {
      "cell_type": "code",
      "execution_count": null,
      "metadata": {
        "colab": {
          "base_uri": "https://localhost:8080/"
        },
        "id": "7QPrEIiZBLDJ",
        "outputId": "d246d765-a6e4-4771-cda1-c1cc73697c3e"
      },
      "outputs": [],
      "source": [
        "dim_factor.to_sql('DIM_FACTOR', con=engine, index=False, if_exists='append', method=pd_writer)\n",
        "\n",
        "# Close the engine\n",
        "engine.dispose()"
      ]
    },
    {
      "cell_type": "code",
      "execution_count": null,
      "metadata": {
        "colab": {
          "base_uri": "https://localhost:8080/"
        },
        "id": "VSK3LnAvBjPr",
        "outputId": "222adabe-e36f-4b84-9db8-ebe87cd16513"
      },
      "outputs": [],
      "source": [
        "dim_date.to_sql('DIM_DATE', con=engine, index=False, if_exists='append', method=pd_writer)\n",
        "\n",
        "# Close the engine\n",
        "engine.dispose()"
      ]
    },
    {
      "cell_type": "code",
      "execution_count": null,
      "metadata": {
        "colab": {
          "base_uri": "https://localhost:8080/"
        },
        "id": "rLXvLp3KY071",
        "outputId": "ed42264b-8e20-435a-a0d5-33a3a54fceef"
      },
      "outputs": [],
      "source": [
        "dim_location.to_sql('DIM_LOCATION', con=engine, index=False, if_exists='append', method=pd_writer)\n",
        "\n",
        "# Close the engine\n",
        "engine.dispose()"
      ]
    },
    {
      "cell_type": "code",
      "execution_count": null,
      "metadata": {
        "colab": {
          "base_uri": "https://localhost:8080/"
        },
        "id": "bDzxJySNI5JN",
        "outputId": "4341b33f-de59-4ed8-a5fd-64e8809b24f6"
      },
      "outputs": [],
      "source": [
        "fact_table.to_sql('FACTS_COLLISIONS', con=engine, index=False, if_exists='append', method=pd_writer)\n",
        "\n",
        "# Close the engine\n",
        "engine.dispose()"
      ]
    }
  ],
  "metadata": {
    "colab": {
      "provenance": []
    },
    "kernelspec": {
      "display_name": "Python 3",
      "name": "python3"
    },
    "language_info": {
      "codemirror_mode": {
        "name": "ipython",
        "version": 3
      },
      "file_extension": ".py",
      "mimetype": "text/x-python",
      "name": "python",
      "nbconvert_exporter": "python",
      "pygments_lexer": "ipython3",
      "version": "3.9.7"
    }
  },
  "nbformat": 4,
  "nbformat_minor": 0
}
